{
  "nbformat": 4,
  "nbformat_minor": 0,
  "metadata": {
    "kernelspec": {
      "name": "python3",
      "display_name": "Python 3"
    },
    "language_info": {
      "codemirror_mode": {
        "name": "ipython",
        "version": 3
      },
      "file_extension": ".py",
      "mimetype": "text/x-python",
      "name": "python",
      "nbconvert_exporter": "python",
      "pygments_lexer": "ipython3",
      "version": "3.7.5"
    },
    "colab": {
      "name": "Copy of digit_classification.ipynb",
      "provenance": [],
      "include_colab_link": true
    },
    "accelerator": "GPU"
  },
  "cells": [
    {
      "cell_type": "markdown",
      "metadata": {
        "id": "view-in-github",
        "colab_type": "text"
      },
      "source": [
        "<a href=\"https://colab.research.google.com/github/ParthikB/Vohoo-PyTorch/blob/master/digit_classification.ipynb\" target=\"_parent\"><img src=\"https://colab.research.google.com/assets/colab-badge.svg\" alt=\"Open In Colab\"/></a>"
      ]
    },
    {
      "cell_type": "code",
      "metadata": {
        "id": "tGzlLgp2bRxG",
        "colab_type": "code",
        "colab": {}
      },
      "source": [
        "import torch\n",
        "import torchvision\n",
        "from torchvision import transforms, datasets\n",
        "import torch.nn as nn\n",
        "import torch.nn.functional as F\n",
        "import torch.optim as optim\n",
        "\n",
        "\n",
        "import matplotlib.pyplot as plt"
      ],
      "execution_count": 0,
      "outputs": []
    },
    {
      "cell_type": "markdown",
      "metadata": {
        "id": "S6uqFasbbRxL",
        "colab_type": "text"
      },
      "source": [
        "### Grabbing the Data"
      ]
    },
    {
      "cell_type": "code",
      "metadata": {
        "id": "wCDty-_hbRxM",
        "colab_type": "code",
        "outputId": "bafd6cf6-801f-4e4c-9572-fbe98a6de51b",
        "colab": {
          "base_uri": "https://localhost:8080/",
          "height": 275
        }
      },
      "source": [
        "train = datasets.MNIST('', train=True, download=True,\n",
        "                      transform=transforms.Compose([transforms.ToTensor()]))\n",
        "\n",
        "test  = datasets.MNIST('', train=False, download=True,\n",
        "                      transform=transforms.Compose([transforms.ToTensor()]))"
      ],
      "execution_count": 0,
      "outputs": [
        {
          "output_type": "stream",
          "text": [
            "\r0it [00:00, ?it/s]"
          ],
          "name": "stderr"
        },
        {
          "output_type": "stream",
          "text": [
            "Downloading http://yann.lecun.com/exdb/mnist/train-images-idx3-ubyte.gz to MNIST/raw/train-images-idx3-ubyte.gz\n"
          ],
          "name": "stdout"
        },
        {
          "output_type": "stream",
          "text": [
            "9920512it [00:02, 3827995.33it/s]                            \n"
          ],
          "name": "stderr"
        },
        {
          "output_type": "stream",
          "text": [
            "Extracting MNIST/raw/train-images-idx3-ubyte.gz to MNIST/raw\n"
          ],
          "name": "stdout"
        },
        {
          "output_type": "stream",
          "text": [
            "\r0it [00:00, ?it/s]"
          ],
          "name": "stderr"
        },
        {
          "output_type": "stream",
          "text": [
            "Downloading http://yann.lecun.com/exdb/mnist/train-labels-idx1-ubyte.gz to MNIST/raw/train-labels-idx1-ubyte.gz\n"
          ],
          "name": "stdout"
        },
        {
          "output_type": "stream",
          "text": [
            "32768it [00:00, 57336.25it/s]                           \n",
            "0it [00:00, ?it/s]"
          ],
          "name": "stderr"
        },
        {
          "output_type": "stream",
          "text": [
            "Extracting MNIST/raw/train-labels-idx1-ubyte.gz to MNIST/raw\n",
            "Downloading http://yann.lecun.com/exdb/mnist/t10k-images-idx3-ubyte.gz to MNIST/raw/t10k-images-idx3-ubyte.gz\n"
          ],
          "name": "stdout"
        },
        {
          "output_type": "stream",
          "text": [
            "1654784it [00:01, 946575.34it/s]                             \n",
            "0it [00:00, ?it/s]"
          ],
          "name": "stderr"
        },
        {
          "output_type": "stream",
          "text": [
            "Extracting MNIST/raw/t10k-images-idx3-ubyte.gz to MNIST/raw\n",
            "Downloading http://yann.lecun.com/exdb/mnist/t10k-labels-idx1-ubyte.gz to MNIST/raw/t10k-labels-idx1-ubyte.gz\n"
          ],
          "name": "stdout"
        },
        {
          "output_type": "stream",
          "text": [
            "8192it [00:00, 21333.26it/s]            "
          ],
          "name": "stderr"
        },
        {
          "output_type": "stream",
          "text": [
            "Extracting MNIST/raw/t10k-labels-idx1-ubyte.gz to MNIST/raw\n",
            "Processing...\n",
            "Done!\n"
          ],
          "name": "stdout"
        },
        {
          "output_type": "stream",
          "text": [
            "\n"
          ],
          "name": "stderr"
        }
      ]
    },
    {
      "cell_type": "markdown",
      "metadata": {
        "id": "IZJw796EbRxP",
        "colab_type": "text"
      },
      "source": [
        "## Creating the Dataset Tensor"
      ]
    },
    {
      "cell_type": "code",
      "metadata": {
        "id": "F8rmkEOYbRxQ",
        "colab_type": "code",
        "colab": {}
      },
      "source": [
        "BATCH_SIZE = 10\n",
        "trainSet = torch.utils.data.DataLoader(train, batch_size=BATCH_SIZE, shuffle=True)\n",
        "testSet  = torch.utils.data.DataLoader(test,  batch_size=BATCH_SIZE, shuffle=True)"
      ],
      "execution_count": 0,
      "outputs": []
    },
    {
      "cell_type": "markdown",
      "metadata": {
        "id": "dvxkniYIbRxT",
        "colab_type": "text"
      },
      "source": [
        "#### Viewing one Sample"
      ]
    },
    {
      "cell_type": "code",
      "metadata": {
        "id": "anjzu7XMbRxT",
        "colab_type": "code",
        "outputId": "bf355423-c479-4704-83a3-00cf0e1f4afb",
        "colab": {
          "base_uri": "https://localhost:8080/",
          "height": 299
        }
      },
      "source": [
        "i = 2 # ranging from 0-32\n",
        "for data in trainSet:\n",
        "    # data --> one batch containing 32 samples\n",
        "    x, y = data[0][i], data[1][i]\n",
        "    break\n",
        "\n",
        "print('Label :', y)\n",
        "plt.imshow(x.view(28, 28)) # Reshaping x from (1, Height, Width) --> (Height, Width)"
      ],
      "execution_count": 0,
      "outputs": [
        {
          "output_type": "stream",
          "text": [
            "Label : tensor(2)\n"
          ],
          "name": "stdout"
        },
        {
          "output_type": "execute_result",
          "data": {
            "text/plain": [
              "<matplotlib.image.AxesImage at 0x7f80ce405240>"
            ]
          },
          "metadata": {
            "tags": []
          },
          "execution_count": 5
        },
        {
          "output_type": "display_data",
          "data": {
            "image/png": "[encoded data removed]",
            "text/plain": [
              "<Figure size 432x288 with 1 Axes>"
            ]
          },
          "metadata": {
            "tags": []
          }
        }
      ]
    },
    {
      "cell_type": "markdown",
      "metadata": {
        "id": "i7t6hElpbRxY",
        "colab_type": "text"
      },
      "source": [
        "### Checking the Balancing of the Data"
      ]
    },
    {
      "cell_type": "code",
      "metadata": {
        "id": "UNMBqRChbRxY",
        "colab_type": "code",
        "outputId": "82ebbb84-12ca-4bac-ae28-c9d5110351d3",
        "colab": {
          "base_uri": "https://localhost:8080/",
          "height": 296
        }
      },
      "source": [
        "total = 0\n",
        "counter = {0:0, 1:0, 2:0, 3:0, 4:0, 5:0, 6:0, 7:0, 8:0, 9:0}\n",
        "\n",
        "for data in trainSet:\n",
        "        y = data[1]\n",
        "        for sample in y:\n",
        "            counter[int(sample)] += 1\n",
        "            total += 1\n",
        "            \n",
        "for key in counter:\n",
        "    percentage = round(counter[key]/total * 100, 2)\n",
        "    counter[key] = percentage\n",
        "\n",
        "x = [key for key in counter]\n",
        "y = [counter[key] for key in counter]\n",
        "plt.bar(x, y)\n",
        "plt.xlabel('Labels')\n",
        "plt.ylabel('Percentage')\n",
        "\n",
        "# The Data is BALANCED"
      ],
      "execution_count": 0,
      "outputs": [
        {
          "output_type": "execute_result",
          "data": {
            "text/plain": [
              "Text(0, 0.5, 'Percentage')"
            ]
          },
          "metadata": {
            "tags": []
          },
          "execution_count": 6
        },
        {
          "output_type": "display_data",
          "data": {
            "image/png": "[encoded data removed]",
            "text/plain": [
              "<Figure size 432x288 with 1 Axes>"
            ]
          },
          "metadata": {
            "tags": []
          }
        }
      ]
    },
    {
      "cell_type": "markdown",
      "metadata": {
        "id": "NlzMrR2abRxa",
        "colab_type": "text"
      },
      "source": [
        "## Creating the Network Structure"
      ]
    },
    {
      "cell_type": "code",
      "metadata": {
        "id": "DQofOoyhbRxb",
        "colab_type": "code",
        "colab": {}
      },
      "source": [
        "class Net(nn.Module):\n",
        "    \n",
        "    def __init__(self):\n",
        "        super().__init__()\n",
        "        \n",
        "        self.fc1 = nn.Linear(28*28, 64)\n",
        "        self.fc2 = nn.Linear(64,    64)        \n",
        "        self.fc3 = nn.Linear(64,    64)        \n",
        "        self.fc4 = nn.Linear(64,    10)        \n",
        "    \n",
        "    def forward(self, x):\n",
        "        x = F.relu(self.fc1(x))\n",
        "        x = F.relu(self.fc2(x))        \n",
        "        x = F.relu(self.fc3(x))        \n",
        "        x = F.log_softmax(self.fc4(x), dim=1)\n",
        "        \n",
        "        return x"
      ],
      "execution_count": 0,
      "outputs": []
    },
    {
      "cell_type": "markdown",
      "metadata": {
        "id": "i_IXXR_2bRxd",
        "colab_type": "text"
      },
      "source": [
        "## Training the Network"
      ]
    },
    {
      "cell_type": "code",
      "metadata": {
        "id": "g-4f9BjHbRxe",
        "colab_type": "code",
        "outputId": "27f1fac6-bee2-440c-a23d-fc242796cec5",
        "colab": {
          "base_uri": "https://localhost:8080/",
          "height": 68
        }
      },
      "source": [
        "LEARNING_RATE = 0.001 #1e-3\n",
        "EPOCHS        = 3\n",
        "\n",
        "net = Net()\n",
        "\n",
        "loss_function = nn.CrossEntropyLoss()\n",
        "# Define Optimizer\n",
        "optimizer = optim.Adam(net.parameters(), lr=LEARNING_RATE)\n",
        "\n",
        "# Iteration Begins\n",
        "for epoch in range(EPOCHS):\n",
        "    # Iterate over every sample in the batch\n",
        "    for data in trainSet:\n",
        "        x, y = data\n",
        "        net.zero_grad()\n",
        "        \n",
        "        #Compute the output\n",
        "        output = net(x.view(-1, 28*28))\n",
        "        \n",
        "        # Compute Loss\n",
        "        loss = F.nll_loss(output, y)\n",
        "        \n",
        "        # Backpropagate\n",
        "        loss.backward()\n",
        "        \n",
        "        # Update Parameters\n",
        "        optimizer.step()\n",
        "        \n",
        "    print(loss)"
      ],
      "execution_count": 0,
      "outputs": [
        {
          "output_type": "stream",
          "text": [
            "tensor(0.0713, grad_fn=<NllLossBackward>)\n",
            "tensor(0.2481, grad_fn=<NllLossBackward>)\n",
            "tensor(0.0398, grad_fn=<NllLossBackward>)\n"
          ],
          "name": "stdout"
        }
      ]
    },
    {
      "cell_type": "code",
      "metadata": {
        "id": "EmoiIGiobRxg",
        "colab_type": "code",
        "outputId": "920f01d5-f5e4-4444-f368-aff9996a34d6",
        "colab": {
          "base_uri": "https://localhost:8080/",
          "height": 51
        }
      },
      "source": [
        "correct, total = 0, 0\n",
        "\n",
        "with torch.no_grad():\n",
        "    for data in trainSet:\n",
        "        x, y = data\n",
        "        output = net(x.view(-1, 28*28))\n",
        "        \n",
        "        for idx, i in enumerate(output):\n",
        "            if torch.argmax(i) == y[idx]:\n",
        "                correct += 1\n",
        "            total += 1\n",
        "    trainAccuracy = round(correct/total *100, 2)\n",
        "    \n",
        "    for data in testSet:\n",
        "        x, y = data\n",
        "        output = net(x.view(-1, 28*28))\n",
        "        \n",
        "        for idx, i in enumerate(output):\n",
        "            if torch.argmax(i) == y[idx]:\n",
        "                correct += 1\n",
        "            total += 1\n",
        "    testAccuracy = round(correct/total *100, 2)\n",
        "    \n",
        "print('Train Accuracy :', trainAccuracy, '%')\n",
        "print('Test Accuracy  :', testAccuracy, '%')"
      ],
      "execution_count": 0,
      "outputs": [
        {
          "output_type": "stream",
          "text": [
            "Train Accuracy : 97.87 %\n",
            "Test Accuracy  : 97.71 %\n"
          ],
          "name": "stdout"
        }
      ]
    },
    {
      "cell_type": "code",
      "metadata": {
        "id": "w1rpETnebRxi",
        "colab_type": "code",
        "colab": {}
      },
      "source": [
        ""
      ],
      "execution_count": 0,
      "outputs": []
    }
  ]
}