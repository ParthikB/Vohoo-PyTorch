{
  "nbformat": 4,
  "nbformat_minor": 0,
  "metadata": {
    "colab": {
      "name": "cats and dogs.ipynb",
      "provenance": [],
      "collapsed_sections": [],
      "include_colab_link": true
    },
    "kernelspec": {
      "name": "python3",
      "display_name": "Python 3"
    }
  },
  "cells": [
    {
      "cell_type": "markdown",
      "metadata": {
        "id": "view-in-github",
        "colab_type": "text"
      },
      "source": [
        "<a href=\"https://colab.research.google.com/github/ParthikB/Vohoo-PyTorch/blob/master/cats_and_dogs.ipynb\" target=\"_parent\"><img src=\"https://colab.research.google.com/assets/colab-badge.svg\" alt=\"Open In Colab\"/></a>"
      ]
    },
    {
      "cell_type": "code",
      "metadata": {
        "id": "Z3Yn5L2xfQgv",
        "colab_type": "code",
        "colab": {
          "base_uri": "https://localhost:8080/",
          "height": 128
        },
        "outputId": "0b567268-5874-4770-db00-77fd0be40911"
      },
      "source": [
        "from google.colab import drive\n",
        "drive.mount('/content/drive')"
      ],
      "execution_count": 1,
      "outputs": [
        {
          "output_type": "stream",
          "text": [
            "Go to this URL in a browser: https://accounts.google.com/o/oauth2/auth?client_id=947318989803-6bn6qk8qdgf4n4g3pfee6491hc0brc4i.apps.googleusercontent.com&redirect_uri=urn%3Aietf%3Awg%3Aoauth%3A2.0%3Aoob&scope=email%20https%3A%2F%2Fwww.googleapis.com%2Fauth%2Fdocs.test%20https%3A%2F%2Fwww.googleapis.com%2Fauth%2Fdrive%20https%3A%2F%2Fwww.googleapis.com%2Fauth%2Fdrive.photos.readonly%20https%3A%2F%2Fwww.googleapis.com%2Fauth%2Fpeopleapi.readonly&response_type=code\n",
            "\n",
            "Enter your authorization code:\n",
            "··········\n",
            "Mounted at /content/drive\n"
          ],
          "name": "stdout"
        }
      ]
    },
    {
      "cell_type": "markdown",
      "metadata": {
        "id": "I07yCeyjyQ-J",
        "colab_type": "text"
      },
      "source": [
        "# PREPROCESSING"
      ]
    },
    {
      "cell_type": "code",
      "metadata": {
        "id": "vRuUKjerd1db",
        "colab_type": "code",
        "outputId": "fb3d7287-9c3e-446a-c684-429bf95c959f",
        "colab": {
          "base_uri": "https://localhost:8080/",
          "height": 74
        }
      },
      "source": [
        "import os\n",
        "import cv2\n",
        "from tqdm import tqdm\n",
        "import numpy as np\n",
        "\n",
        "                                  # VARIABLES #\n",
        "DATA_EXTRACTED = True\n",
        "DATA_CREATED   = True\n",
        "DATA_BALANCED  = True\n",
        "CLIP           = 1680  #Clip every feature lenght at CLIP is data is not balanced.\n",
        "#____________________________________________________________________________________#\n",
        "                              \n",
        "                              # DOWNLOADING DATA #\n",
        "PATH = '/content/drive/My Drive/Colab Notebooks/pyTorch/data/'\n",
        "os.chdir(PATH)\n",
        "\n",
        "os.environ['KAGGLE_USERNAME'] = \"parthikb\" # username from the json file \n",
        "os.environ['KAGGLE_KEY'] = \"079b1e8e73bd390b39218acc15c82b09\" # key from the json file\n",
        "!kaggle datasets download -d chetankv/dogs-cats-images\n",
        "#____________________________________________________________________________________#\n",
        "                             \n",
        "                              # EXTRACTING DATA #\n",
        "if not DATA_EXTRACTED:\n",
        "  from zipfile import ZipFile\n",
        "\n",
        "  file_name = 'dogs-cats-images.zip'\n",
        "\n",
        "  with ZipFile(file_name, 'r') as zip:\n",
        "    print('Initiating Extraction...')\n",
        "    zip.extractall()\n",
        "    print('Done!')\n",
        "#____________________________________________________________________________________#\n",
        "                               \n",
        "                                # MOVING DATA #\n",
        "# PATH += 'dog vs cat/dataset'\n",
        "# os.chdir(PATH)\n",
        "\n",
        "# To move the dataset folders...\n",
        "\n",
        "# import shutil\n",
        "# shutil.move(PATH+'/training_set', '/content/drive/My Drive/Colab Notebooks/pyTorch/data/dog vs cat/')\n",
        "# shutil.move(PATH+'/test_set', '/content/drive/My Drive/Colab Notebooks/pyTorch/data/dog vs cat/')\n",
        "#____________________________________________________________________________________#\n",
        "                          \n",
        "                           # CREATING TRAINING SET #\n",
        "PATH = '/content/drive/My Drive/Colab Notebooks/pyTorch/data/dog vs cat/training_set'\n",
        "os.chdir(PATH)\n",
        "\n",
        "class DogsVSCats:\n",
        "  IMG_SIZE     = 50\n",
        "  CATS         = os.path.join(PATH, 'cats') \n",
        "  DOGS         = os.path.join(PATH, 'dogs')\n",
        "  labels       = {CATS:0, DOGS:1}\n",
        "  training_data = []\n",
        "  cat_count, dog_count = 0, 0\n",
        "\n",
        "  def createTrainingData(self):\n",
        "    try:\n",
        "      for label in self.labels:\n",
        "        os.chdir(label)\n",
        "        data = os.listdir()\n",
        "        for image in tqdm(data):\n",
        "          img = os.path.join(label, image)\n",
        "          img = cv2.imread(img, 0)\n",
        "\n",
        "          one_hot = np.eye(len(self.labels))[self.labels[label]]\n",
        "          img = cv2.resize(img, (self.IMG_SIZE, self.IMG_SIZE))\n",
        "          \n",
        "          self.training_data.append([np.array(img), one_hot])\n",
        "          \n",
        "          if label == self.CATS:\n",
        "            self.cat_count += 1\n",
        "          else:\n",
        "            self.dog_count += 1\n",
        "    except Exception as e:\n",
        "      print(e)\n",
        "\n",
        "    np.random.shuffle(self.training_data)\n",
        "    np.save('/content/drive/My Drive/Colab Notebooks/pyTorch/data/dog vs cat/training_data.npy', self.training_data)\n",
        "    print('Cats : ', self.cat_count)\n",
        "    print('Dogs : ', self.dog_count)\n",
        "    \n",
        "if not DATA_CREATED:\n",
        "  print('Creating Training set...')\n",
        "  dogsVScats = DogsVSCats()\n",
        "  dogsVScats.createTrainingData()\n",
        "\n",
        "\n",
        "training_data = np.load('/content/drive/My Drive/Colab Notebooks/pyTorch/data/dog vs cat/training_data.npy', allow_pickle=True)\n",
        "#____________________________________________________________________________________#\n",
        "                              \n",
        "                              # BALANCING TRAINING SET #\n",
        "if not DATA_BALANCED:\n",
        "  print('Balancing Training set...')\n",
        "  cat_counter, dog_counter = 0, 0\n",
        "  balanced_training_data = []\n",
        "\n",
        "  for data in tqdm(training_data):\n",
        "    if data[1][0] == 1 and cat_counter < CLIP: #if cat\n",
        "      cat_counter += 1\n",
        "      balanced_training_data.append(data)\n",
        "    elif data[1][1] == 1 and dog_counter < CLIP: #if dog\n",
        "      dog_counter += 1\n",
        "      balanced_training_data.append(data)\n",
        "\n",
        "  training_data = balanced_training_data\n",
        "#____________________________________________________________________________________#\n",
        "\n",
        "print(\"Length of Final Training Set :\", len(training_data))"
      ],
      "execution_count": 2,
      "outputs": [
        {
          "output_type": "stream",
          "text": [
            "dogs-cats-images.zip: Skipping, found more recently modified local copy (use --force to force download)\n",
            "Length of Final Training Set : 5680\n"
          ],
          "name": "stdout"
        }
      ]
    },
    {
      "cell_type": "markdown",
      "metadata": {
        "id": "n8X6_o-3XpIn",
        "colab_type": "text"
      },
      "source": [
        "# Creating Network"
      ]
    },
    {
      "cell_type": "code",
      "metadata": {
        "id": "zv5wy_j91Ca3",
        "colab_type": "code",
        "colab": {}
      },
      "source": [
        "import torch\n",
        "import torch.nn as nn\n",
        "import torch.nn.functional as F"
      ],
      "execution_count": 0,
      "outputs": []
    },
    {
      "cell_type": "code",
      "metadata": {
        "id": "dFvtKsAA9b-G",
        "colab_type": "code",
        "colab": {}
      },
      "source": [
        "class Net(nn.Module):\n",
        "  def __init__(self):\n",
        "    super().__init__()\n",
        "\n",
        "    '''\n",
        "    Network Structure:\n",
        "\n",
        "    input > \n",
        "    (1)Conv2D > (2)MaxPool2D > \n",
        "    (3)Conv2D > (4)MaxPool2D > \n",
        "    (5)Conv2D > (6)MaxPool2D > \n",
        "    (7)Linear > (8)LinearOut\n",
        "\n",
        "    '''\n",
        "\n",
        "    # Creating the convulutional Layers\n",
        "    self.conv1 = nn.Conv2d(in_channels=1, out_channels=32, kernel_size=5)\n",
        "    self.conv2 = nn.Conv2d(in_channels=32, out_channels=64, kernel_size=5)\n",
        "    self.conv3 = nn.Conv2d(in_channels=64, out_channels=128, kernel_size=5)\n",
        "\n",
        "    self.flatten = None\n",
        "    # Creating a Random dummy sample to get the Flattened Dimensions\n",
        "    x = torch.randn(50, 50).view(-1, 1, 50, 50)\n",
        "    x = self.convs(x)\n",
        "\n",
        "    # x = torch.flatten(x)\n",
        "    # print(x.shape)\n",
        "\n",
        "    # Creating the Linear Layers\n",
        "    self.fc1   = nn.Linear(self.flatten, 512)\n",
        "    self.fc2   = nn.Linear(512, 2)\n",
        "\n",
        "    # x = self.forward(x)\n",
        "\n",
        "  def convs(self, x):\n",
        "\n",
        "    # Creating the MaxPooling Layers\n",
        "    x = F.max_pool2d(F.relu(self.conv1(x)), kernel_size=(2, 2))\n",
        "    x = F.max_pool2d(F.relu(self.conv2(x)), kernel_size=(2, 2))\n",
        "    x = F.max_pool2d(F.relu(self.conv3(x)), kernel_size=(2, 2))\n",
        "\n",
        "    if not self.flatten:\n",
        "      self.flatten = x[0].shape[0] * x[0].shape[1] * x[0].shape[2]\n",
        "    return x\n",
        "\n",
        "  # FORWARD PASS\n",
        "  def forward(self, x):\n",
        "    x = self.convs(x)\n",
        "    x = x.view(-1, self.flatten)\n",
        "    x = F.relu(self.fc1(x))\n",
        "    x = F.softmax(self.fc2(x), dim=1)\n",
        "    return x\n"
      ],
      "execution_count": 0,
      "outputs": []
    },
    {
      "cell_type": "markdown",
      "metadata": {
        "id": "Xl2L6hb4YgKq",
        "colab_type": "text"
      },
      "source": [
        "# Modifying Training Data"
      ]
    },
    {
      "cell_type": "code",
      "metadata": {
        "id": "GN9PB6_jYuDY",
        "colab_type": "code",
        "colab": {}
      },
      "source": [
        "# Test split percentage\n",
        "TEST_PERCENTAGE = 0.2\n",
        "\n",
        "training_data = np.load('/content/drive/My Drive/Colab Notebooks/pyTorch/data/dog vs cat/training_data.npy', allow_pickle=True)\n",
        "\n",
        "x = torch.tensor([data[0] for data in training_data]).view(-1, 50, 50)\n",
        "x = x/255.0\n",
        "y = torch.tensor([data[1] for data in training_data])\n",
        "\n",
        "test_size = int(x.shape[0] * TEST_PERCENTAGE)\n",
        "\n",
        "x_train, y_train = x[:-test_size], y[:-test_size]\n",
        "x_test,  y_test  = x[-test_size:], y[-test_size:]"
      ],
      "execution_count": 0,
      "outputs": []
    },
    {
      "cell_type": "markdown",
      "metadata": {
        "id": "yUgDxYmpPPfk",
        "colab_type": "text"
      },
      "source": [
        "# Running Network"
      ]
    },
    {
      "cell_type": "code",
      "metadata": {
        "id": "Lbzh_9SiXxaK",
        "colab_type": "code",
        "colab": {}
      },
      "source": [
        "import torch.optim as optim"
      ],
      "execution_count": 0,
      "outputs": []
    },
    {
      "cell_type": "code",
      "metadata": {
        "id": "nVZzPJKSX4CD",
        "colab_type": "code",
        "colab": {
          "base_uri": "https://localhost:8080/",
          "height": 199
        },
        "outputId": "6e7ae9fc-6691-4ff8-87a3-49919dff3723"
      },
      "source": [
        "EPOCHS        = 10\n",
        "LEARNING_RATE = 0.001\n",
        "BATCH_SIZE    = 32\n",
        "\n",
        "net = Net()\n",
        "optimizer = optim.Adam(net.parameters(), lr=LEARNING_RATE)\n",
        "loss_func = nn.MSELoss()\n",
        "loss_log  = []\n",
        "\n",
        "for epoch in range(EPOCHS):\n",
        "  for i in tqdm(range(0, len(x_train), BATCH_SIZE)):\n",
        "      x_batch = x_train[i:i+BATCH_SIZE].view(-1, 1, 50, 50)\n",
        "      y_batch = y_train[i:i+BATCH_SIZE]\n",
        "\n",
        "      net.zero_grad()\n",
        "      output = net(x_batch)\n",
        "      loss = loss_func(output, y_batch.float())\n",
        "      loss.backward()\n",
        "      optimizer.step()\n",
        "  loss_log.append(loss)"
      ],
      "execution_count": 66,
      "outputs": [
        {
          "output_type": "stream",
          "text": [
            "100%|██████████| 142/142 [00:23<00:00,  6.10it/s]\n",
            "100%|██████████| 142/142 [00:22<00:00,  6.44it/s]\n",
            "100%|██████████| 142/142 [00:22<00:00,  6.17it/s]\n",
            "100%|██████████| 142/142 [00:22<00:00,  6.23it/s]\n",
            "100%|██████████| 142/142 [00:22<00:00,  6.33it/s]\n",
            "100%|██████████| 142/142 [00:22<00:00,  6.28it/s]\n",
            "100%|██████████| 142/142 [00:22<00:00,  6.10it/s]\n",
            "100%|██████████| 142/142 [00:22<00:00,  6.19it/s]\n",
            "100%|██████████| 142/142 [00:22<00:00,  6.13it/s]\n",
            "100%|██████████| 142/142 [00:23<00:00,  6.26it/s]\n"
          ],
          "name": "stderr"
        }
      ]
    },
    {
      "cell_type": "code",
      "metadata": {
        "id": "7_rXkXjgfl_1",
        "colab_type": "code",
        "colab": {
          "base_uri": "https://localhost:8080/",
          "height": 283
        },
        "outputId": "51cc2993-a045-439f-98e9-e976232645c5"
      },
      "source": [
        "plt.plot(loss_log)"
      ],
      "execution_count": 67,
      "outputs": [
        {
          "output_type": "execute_result",
          "data": {
            "text/plain": [
              "[<matplotlib.lines.Line2D at 0x7f94f60280b8>]"
            ]
          },
          "metadata": {
            "tags": []
          },
          "execution_count": 67
        },
        {
          "output_type": "display_data",
          "data": {
            "image/png": "[encoded data removed]",
            "text/plain": [
              "<Figure size 432x288 with 1 Axes>"
            ]
          },
          "metadata": {
            "tags": []
          }
        }
      ]
    },
    {
      "cell_type": "markdown",
      "metadata": {
        "id": "MDEjcWZ8hJD7",
        "colab_type": "text"
      },
      "source": [
        "## Test Accuracy"
      ]
    },
    {
      "cell_type": "code",
      "metadata": {
        "id": "nLMrEQe4hNWK",
        "colab_type": "code",
        "colab": {
          "base_uri": "https://localhost:8080/",
          "height": 72
        },
        "outputId": "03a9a3da-b1ca-4dbb-c172-7c7d65ee6dfe"
      },
      "source": [
        "correct = 0\n",
        "total   = 0\n",
        "\n",
        "with torch.no_grad():\n",
        "  for i in tqdm(range(len(x_test))):\n",
        "    real_class = torch.argmax(y_test[i])\n",
        "    pred_class = torch.argmax(net(x_test[i].view(-1, 1, 50, 50)))\n",
        "\n",
        "    total += 1\n",
        "    if real_class == pred_class:\n",
        "      correct += 1\n",
        "\n",
        "accuracy = (correct/total)*100\n",
        "print()\n",
        "print(f'Accuracy : {round(accuracy, 2)} %')"
      ],
      "execution_count": 72,
      "outputs": [
        {
          "output_type": "stream",
          "text": [
            "100%|██████████| 1136/1136 [00:02<00:00, 487.71it/s]"
          ],
          "name": "stderr"
        },
        {
          "output_type": "stream",
          "text": [
            "\n",
            "Accuracy : 73.15 %\n"
          ],
          "name": "stdout"
        },
        {
          "output_type": "stream",
          "text": [
            "\n"
          ],
          "name": "stderr"
        }
      ]
    }
  ]
}